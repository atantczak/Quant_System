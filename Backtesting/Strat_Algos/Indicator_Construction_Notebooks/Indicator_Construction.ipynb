{
 "cells": [
  {
   "cell_type": "code",
   "execution_count": 1,
   "metadata": {},
   "outputs": [],
   "source": [
    "import pandas as pd\n",
    "import pickle\n",
    "import numpy as np"
   ]
  },
  {
   "cell_type": "code",
   "execution_count": 2,
   "metadata": {},
   "outputs": [],
   "source": [
    "ticker = 'AAPL'\n",
    "filename = '../../../Data_Store/Yah_Daily_Prices/Daily_Price_Data/{}.pk'.format(ticker)\n",
    "with open(filename, 'rb') as file:\n",
    "    # Change Index to timestamp for original Polygon Data\n",
    "    # Change Index to Date for Yah Finance Data\n",
    "    data = pd.DataFrame(pickle.load(file)).set_index('Date', drop=True)"
   ]
  },
  {
   "cell_type": "code",
   "execution_count": 3,
   "metadata": {},
   "outputs": [
    {
     "name": "stdout",
     "output_type": "stream",
     "text": [
      "                  High         Low        Open       Close       Volume  \\\n",
      "Date                                                                      \n",
      "2021-04-23  135.119995  132.160004  132.160004  134.320007   78657500.0   \n",
      "2021-04-26  135.059998  133.559998  134.830002  134.720001   66905100.0   \n",
      "2021-04-27  135.410004  134.110001  135.009995  134.389999   66015800.0   \n",
      "2021-04-28  135.020004  133.080002  134.309998  133.580002  106589600.0   \n",
      "2021-04-29  137.070007  132.449997  136.470001  133.479996  150777100.0   \n",
      "\n",
      "             Adj Close  \n",
      "Date                    \n",
      "2021-04-23  134.320007  \n",
      "2021-04-26  134.720001  \n",
      "2021-04-27  134.389999  \n",
      "2021-04-28  133.580002  \n",
      "2021-04-29  133.479996  \n"
     ]
    }
   ],
   "source": [
    "print(data.tail())"
   ]
  },
  {
   "cell_type": "code",
   "execution_count": 4,
   "metadata": {},
   "outputs": [
    {
     "data": {
      "text/html": [
       "<div>\n",
       "<style scoped>\n",
       "    .dataframe tbody tr th:only-of-type {\n",
       "        vertical-align: middle;\n",
       "    }\n",
       "\n",
       "    .dataframe tbody tr th {\n",
       "        vertical-align: top;\n",
       "    }\n",
       "\n",
       "    .dataframe thead th {\n",
       "        text-align: right;\n",
       "    }\n",
       "</style>\n",
       "<table border=\"1\" class=\"dataframe\">\n",
       "  <thead>\n",
       "    <tr style=\"text-align: right;\">\n",
       "      <th></th>\n",
       "      <th>High</th>\n",
       "      <th>Low</th>\n",
       "      <th>Open</th>\n",
       "      <th>Close</th>\n",
       "      <th>Volume</th>\n",
       "      <th>Adj Close</th>\n",
       "    </tr>\n",
       "    <tr>\n",
       "      <th>Date</th>\n",
       "      <th></th>\n",
       "      <th></th>\n",
       "      <th></th>\n",
       "      <th></th>\n",
       "      <th></th>\n",
       "      <th></th>\n",
       "    </tr>\n",
       "  </thead>\n",
       "  <tbody>\n",
       "    <tr>\n",
       "      <th>2021-02-18</th>\n",
       "      <td>130.000000</td>\n",
       "      <td>127.410004</td>\n",
       "      <td>129.199997</td>\n",
       "      <td>129.710007</td>\n",
       "      <td>96856700.0</td>\n",
       "      <td>129.710007</td>\n",
       "    </tr>\n",
       "    <tr>\n",
       "      <th>2021-02-19</th>\n",
       "      <td>130.710007</td>\n",
       "      <td>128.800003</td>\n",
       "      <td>130.240005</td>\n",
       "      <td>129.869995</td>\n",
       "      <td>87668800.0</td>\n",
       "      <td>129.869995</td>\n",
       "    </tr>\n",
       "    <tr>\n",
       "      <th>2021-02-22</th>\n",
       "      <td>129.720001</td>\n",
       "      <td>125.599998</td>\n",
       "      <td>128.009995</td>\n",
       "      <td>126.000000</td>\n",
       "      <td>103916400.0</td>\n",
       "      <td>126.000000</td>\n",
       "    </tr>\n",
       "    <tr>\n",
       "      <th>2021-02-23</th>\n",
       "      <td>126.709999</td>\n",
       "      <td>118.389999</td>\n",
       "      <td>123.760002</td>\n",
       "      <td>125.860001</td>\n",
       "      <td>158273000.0</td>\n",
       "      <td>125.860001</td>\n",
       "    </tr>\n",
       "    <tr>\n",
       "      <th>2021-02-24</th>\n",
       "      <td>125.559998</td>\n",
       "      <td>122.230003</td>\n",
       "      <td>124.940002</td>\n",
       "      <td>125.349998</td>\n",
       "      <td>111039900.0</td>\n",
       "      <td>125.349998</td>\n",
       "    </tr>\n",
       "  </tbody>\n",
       "</table>\n",
       "</div>"
      ],
      "text/plain": [
       "                  High         Low        Open       Close       Volume  \\\n",
       "Date                                                                      \n",
       "2021-02-18  130.000000  127.410004  129.199997  129.710007   96856700.0   \n",
       "2021-02-19  130.710007  128.800003  130.240005  129.869995   87668800.0   \n",
       "2021-02-22  129.720001  125.599998  128.009995  126.000000  103916400.0   \n",
       "2021-02-23  126.709999  118.389999  123.760002  125.860001  158273000.0   \n",
       "2021-02-24  125.559998  122.230003  124.940002  125.349998  111039900.0   \n",
       "\n",
       "             Adj Close  \n",
       "Date                    \n",
       "2021-02-18  129.710007  \n",
       "2021-02-19  129.869995  \n",
       "2021-02-22  126.000000  \n",
       "2021-02-23  125.860001  \n",
       "2021-02-24  125.349998  "
      ]
     },
     "execution_count": 4,
     "metadata": {},
     "output_type": "execute_result"
    }
   ],
   "source": [
    "data_chunk = data[-50:]\n",
    "data_chunk.head()"
   ]
  },
  {
   "cell_type": "code",
   "execution_count": 5,
   "metadata": {},
   "outputs": [
    {
     "name": "stderr",
     "output_type": "stream",
     "text": [
      "<ipython-input-5-b521cdf5a631>:1: SettingWithCopyWarning: \n",
      "A value is trying to be set on a copy of a slice from a DataFrame.\n",
      "Try using .loc[row_indexer,col_indexer] = value instead\n",
      "\n",
      "See the caveats in the documentation: https://pandas.pydata.org/pandas-docs/stable/user_guide/indexing.html#returning-a-view-versus-a-copy\n",
      "  data_chunk['Pct Change'] = data_chunk['Close'].pct_change()\n"
     ]
    }
   ],
   "source": [
    "data_chunk['Pct Change'] = data_chunk['Close'].pct_change()"
   ]
  },
  {
   "cell_type": "code",
   "execution_count": 6,
   "metadata": {},
   "outputs": [
    {
     "data": {
      "text/html": [
       "<div>\n",
       "<style scoped>\n",
       "    .dataframe tbody tr th:only-of-type {\n",
       "        vertical-align: middle;\n",
       "    }\n",
       "\n",
       "    .dataframe tbody tr th {\n",
       "        vertical-align: top;\n",
       "    }\n",
       "\n",
       "    .dataframe thead th {\n",
       "        text-align: right;\n",
       "    }\n",
       "</style>\n",
       "<table border=\"1\" class=\"dataframe\">\n",
       "  <thead>\n",
       "    <tr style=\"text-align: right;\">\n",
       "      <th></th>\n",
       "      <th>High</th>\n",
       "      <th>Low</th>\n",
       "      <th>Open</th>\n",
       "      <th>Close</th>\n",
       "      <th>Volume</th>\n",
       "      <th>Adj Close</th>\n",
       "      <th>Pct Change</th>\n",
       "    </tr>\n",
       "    <tr>\n",
       "      <th>Date</th>\n",
       "      <th></th>\n",
       "      <th></th>\n",
       "      <th></th>\n",
       "      <th></th>\n",
       "      <th></th>\n",
       "      <th></th>\n",
       "      <th></th>\n",
       "    </tr>\n",
       "  </thead>\n",
       "  <tbody>\n",
       "    <tr>\n",
       "      <th>2021-02-18</th>\n",
       "      <td>130.000000</td>\n",
       "      <td>127.410004</td>\n",
       "      <td>129.199997</td>\n",
       "      <td>129.710007</td>\n",
       "      <td>96856700.0</td>\n",
       "      <td>129.710007</td>\n",
       "      <td>NaN</td>\n",
       "    </tr>\n",
       "    <tr>\n",
       "      <th>2021-02-19</th>\n",
       "      <td>130.710007</td>\n",
       "      <td>128.800003</td>\n",
       "      <td>130.240005</td>\n",
       "      <td>129.869995</td>\n",
       "      <td>87668800.0</td>\n",
       "      <td>129.869995</td>\n",
       "      <td>0.001233</td>\n",
       "    </tr>\n",
       "    <tr>\n",
       "      <th>2021-02-22</th>\n",
       "      <td>129.720001</td>\n",
       "      <td>125.599998</td>\n",
       "      <td>128.009995</td>\n",
       "      <td>126.000000</td>\n",
       "      <td>103916400.0</td>\n",
       "      <td>126.000000</td>\n",
       "      <td>-0.029799</td>\n",
       "    </tr>\n",
       "    <tr>\n",
       "      <th>2021-02-23</th>\n",
       "      <td>126.709999</td>\n",
       "      <td>118.389999</td>\n",
       "      <td>123.760002</td>\n",
       "      <td>125.860001</td>\n",
       "      <td>158273000.0</td>\n",
       "      <td>125.860001</td>\n",
       "      <td>-0.001111</td>\n",
       "    </tr>\n",
       "    <tr>\n",
       "      <th>2021-02-24</th>\n",
       "      <td>125.559998</td>\n",
       "      <td>122.230003</td>\n",
       "      <td>124.940002</td>\n",
       "      <td>125.349998</td>\n",
       "      <td>111039900.0</td>\n",
       "      <td>125.349998</td>\n",
       "      <td>-0.004052</td>\n",
       "    </tr>\n",
       "  </tbody>\n",
       "</table>\n",
       "</div>"
      ],
      "text/plain": [
       "                  High         Low        Open       Close       Volume  \\\n",
       "Date                                                                      \n",
       "2021-02-18  130.000000  127.410004  129.199997  129.710007   96856700.0   \n",
       "2021-02-19  130.710007  128.800003  130.240005  129.869995   87668800.0   \n",
       "2021-02-22  129.720001  125.599998  128.009995  126.000000  103916400.0   \n",
       "2021-02-23  126.709999  118.389999  123.760002  125.860001  158273000.0   \n",
       "2021-02-24  125.559998  122.230003  124.940002  125.349998  111039900.0   \n",
       "\n",
       "             Adj Close  Pct Change  \n",
       "Date                                \n",
       "2021-02-18  129.710007         NaN  \n",
       "2021-02-19  129.869995    0.001233  \n",
       "2021-02-22  126.000000   -0.029799  \n",
       "2021-02-23  125.860001   -0.001111  \n",
       "2021-02-24  125.349998   -0.004052  "
      ]
     },
     "execution_count": 6,
     "metadata": {},
     "output_type": "execute_result"
    }
   ],
   "source": [
    "data_chunk.head()"
   ]
  },
  {
   "cell_type": "code",
   "execution_count": 7,
   "metadata": {},
   "outputs": [],
   "source": [
    "data_chunk = data_chunk.fillna(0)"
   ]
  },
  {
   "cell_type": "code",
   "execution_count": 8,
   "metadata": {},
   "outputs": [],
   "source": [
    "data_chunk['Pos Change'] = data_chunk.apply(lambda x: x['Pct Change'] if x['Pct Change'] > 0.0 else np.nan, axis=1)"
   ]
  },
  {
   "cell_type": "code",
   "execution_count": 9,
   "metadata": {},
   "outputs": [],
   "source": [
    "data_chunk['Neg Change'] = data_chunk.apply(lambda x: x['Pct Change'] if x['Pct Change'] < 0.0 else np.nan, axis=1)"
   ]
  },
  {
   "cell_type": "code",
   "execution_count": 10,
   "metadata": {},
   "outputs": [
    {
     "name": "stdout",
     "output_type": "stream",
     "text": [
      "                  High         Low        Open       Close       Volume  \\\n",
      "Date                                                                      \n",
      "2021-02-18  130.000000  127.410004  129.199997  129.710007   96856700.0   \n",
      "2021-02-19  130.710007  128.800003  130.240005  129.869995   87668800.0   \n",
      "2021-02-22  129.720001  125.599998  128.009995  126.000000  103916400.0   \n",
      "2021-02-23  126.709999  118.389999  123.760002  125.860001  158273000.0   \n",
      "2021-02-24  125.559998  122.230003  124.940002  125.349998  111039900.0   \n",
      "\n",
      "             Adj Close  Pct Change  Pos Change  Neg Change  \n",
      "Date                                                        \n",
      "2021-02-18  129.710007    0.000000         NaN         NaN  \n",
      "2021-02-19  129.869995    0.001233    0.001233         NaN  \n",
      "2021-02-22  126.000000   -0.029799         NaN   -0.029799  \n",
      "2021-02-23  125.860001   -0.001111         NaN   -0.001111  \n",
      "2021-02-24  125.349998   -0.004052         NaN   -0.004052  \n"
     ]
    }
   ],
   "source": [
    "print(data_chunk.head())"
   ]
  },
  {
   "cell_type": "code",
   "execution_count": 15,
   "metadata": {},
   "outputs": [],
   "source": [
    "data_chunk['Pos Sum'] = (data_chunk['Pos Change'].rolling(window=14, min_periods=1).sum())/14.0\n",
    "data_chunk['Neg Sum'] = -1*(data_chunk['Neg Change'].rolling(window=14, min_periods=1).sum())/14.0"
   ]
  },
  {
   "cell_type": "code",
   "execution_count": 16,
   "metadata": {},
   "outputs": [],
   "source": [
    "data_chunk['RSI'] = [(100 - (100/(1+(data_chunk['Pos Sum'][i]/data_chunk['Neg Sum'][i])))) for i in range(0, len(data_chunk))]"
   ]
  },
  {
   "cell_type": "code",
   "execution_count": 17,
   "metadata": {},
   "outputs": [
    {
     "name": "stdout",
     "output_type": "stream",
     "text": [
      "                  High         Low        Open       Close       Volume  \\\n",
      "Date                                                                      \n",
      "2021-04-01  124.180000  122.489998  123.660004  123.000000   75089100.0   \n",
      "2021-04-05  126.160004  123.070000  123.870003  125.900002   88651200.0   \n",
      "2021-04-06  127.129997  125.650002  126.500000  126.209999   80171300.0   \n",
      "2021-04-07  127.919998  125.139999  125.830002  127.900002   83466700.0   \n",
      "2021-04-08  130.389999  128.520004  128.949997  130.360001   88844600.0   \n",
      "2021-04-09  133.039993  129.470001  129.800003  133.000000  106686700.0   \n",
      "2021-04-12  132.850006  130.630005  132.520004  131.240005   91420000.0   \n",
      "2021-04-13  134.660004  131.929993  132.440002  134.429993   91266500.0   \n",
      "2021-04-14  135.000000  131.660004  134.940002  132.029999   87222800.0   \n",
      "2021-04-15  135.000000  133.639999  133.820007  134.500000   89347100.0   \n",
      "2021-04-16  134.669998  133.279999  134.300003  134.160004   84922400.0   \n",
      "2021-04-19  135.470001  133.339996  133.509995  134.839996   94264200.0   \n",
      "2021-04-20  135.529999  131.809998  135.020004  133.110001   94812300.0   \n",
      "2021-04-21  133.750000  131.300003  132.360001  133.500000   68847100.0   \n",
      "2021-04-22  134.149994  131.410004  133.039993  131.940002   84566500.0   \n",
      "2021-04-23  135.119995  132.160004  132.160004  134.320007   78657500.0   \n",
      "2021-04-26  135.059998  133.559998  134.830002  134.720001   66905100.0   \n",
      "2021-04-27  135.410004  134.110001  135.009995  134.389999   66015800.0   \n",
      "2021-04-28  135.020004  133.080002  134.309998  133.580002  106589600.0   \n",
      "2021-04-29  137.070007  132.449997  136.470001  133.479996  150777100.0   \n",
      "\n",
      "             Adj Close  Pct Change  Pos Change  Neg Change   Pos Sum  \\\n",
      "Date                                                                   \n",
      "2021-04-01  123.000000    0.006959    0.006959         NaN  0.007289   \n",
      "2021-04-05  125.900002    0.023577    0.023577         NaN  0.007226   \n",
      "2021-04-06  126.209999    0.002462    0.002462         NaN  0.006492   \n",
      "2021-04-07  127.900002    0.013390    0.013390         NaN  0.007449   \n",
      "2021-04-08  130.360001    0.019234    0.019234         NaN  0.008822   \n",
      "2021-04-09  133.000000    0.020252    0.020252         NaN  0.010269   \n",
      "2021-04-12  131.240005   -0.013233         NaN   -0.013233  0.008245   \n",
      "2021-04-13  134.429993    0.024307    0.024307         NaN  0.009981   \n",
      "2021-04-14  132.029999   -0.017853         NaN   -0.017853  0.009981   \n",
      "2021-04-15  134.500000    0.018708    0.018708         NaN  0.011020   \n",
      "2021-04-16  134.160004   -0.002528         NaN   -0.002528  0.010653   \n",
      "2021-04-19  134.839996    0.005069    0.005069         NaN  0.010909   \n",
      "2021-04-20  133.110001   -0.012830         NaN   -0.012830  0.010909   \n",
      "2021-04-21  133.500000    0.002930    0.002930         NaN  0.009778   \n",
      "2021-04-22  131.940002   -0.011685         NaN   -0.011685  0.009281   \n",
      "2021-04-23  134.320007    0.018039    0.018039         NaN  0.008885   \n",
      "2021-04-26  134.720001    0.002978    0.002978         NaN  0.008922   \n",
      "2021-04-27  134.389999   -0.002450         NaN   -0.002450  0.007965   \n",
      "2021-04-28  133.580002   -0.006027         NaN   -0.006027  0.006591   \n",
      "2021-04-29  133.479996   -0.000749         NaN   -0.000749  0.005145   \n",
      "\n",
      "             Neg Sum        RSI  \n",
      "Date                             \n",
      "2021-04-01  0.005999  54.852953  \n",
      "2021-04-05  0.005999  54.638512  \n",
      "2021-04-06  0.005999  51.971864  \n",
      "2021-04-07  0.005539  57.352755  \n",
      "2021-04-08  0.003117  73.893648  \n",
      "2021-04-09  0.002797  78.593769  \n",
      "2021-04-12  0.003742  68.782052  \n",
      "2021-04-13  0.003250  75.436332  \n",
      "2021-04-14  0.003097  76.318181  \n",
      "2021-04-15  0.003097  78.060918  \n",
      "2021-04-16  0.003278  76.470760  \n",
      "2021-04-19  0.003278  76.895293  \n",
      "2021-04-20  0.003317  76.680815  \n",
      "2021-04-21  0.003317  74.666551  \n",
      "2021-04-22  0.004152  69.089569  \n",
      "2021-04-23  0.004152  68.151562  \n",
      "2021-04-26  0.004152  68.241289  \n",
      "2021-04-27  0.004327  64.798850  \n",
      "2021-04-28  0.004758  58.079563  \n",
      "2021-04-29  0.004811  51.676836  \n"
     ]
    }
   ],
   "source": [
    "print(data_chunk[-20:])"
   ]
  }
 ],
 "metadata": {
  "kernelspec": {
   "display_name": "Python 3",
   "language": "python",
   "name": "python3"
  },
  "language_info": {
   "codemirror_mode": {
    "name": "ipython",
    "version": 3
   },
   "file_extension": ".py",
   "mimetype": "text/x-python",
   "name": "python",
   "nbconvert_exporter": "python",
   "pygments_lexer": "ipython3",
   "version": "3.8.1"
  }
 },
 "nbformat": 4,
 "nbformat_minor": 4
}
